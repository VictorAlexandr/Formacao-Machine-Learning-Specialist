{
  "nbformat": 4,
  "nbformat_minor": 0,
  "metadata": {
    "colab": {
      "provenance": [],
      "authorship_tag": "ABX9TyORsHe6u1wgYD7jbRwnpu61",
      "include_colab_link": true
    },
    "kernelspec": {
      "name": "python3",
      "display_name": "Python 3"
    },
    "language_info": {
      "name": "python"
    }
  },
  "cells": [
    {
      "cell_type": "markdown",
      "metadata": {
        "id": "view-in-github",
        "colab_type": "text"
      },
      "source": [
        "<a href=\"https://colab.research.google.com/github/VictorAlexandr/Formacao-Machine-Learning-Specialist/blob/main/Criando_um_sistema_de_assist%C3%AAncia_virtual_do_zero.ipynb\" target=\"_parent\"><img src=\"https://colab.research.google.com/assets/colab-badge.svg\" alt=\"Open In Colab\"/></a>"
      ]
    },
    {
      "cell_type": "code",
      "source": [
        "!pip install gtts"
      ],
      "metadata": {
        "id": "Hb1bN_q-lYHu"
      },
      "execution_count": null,
      "outputs": []
    },
    {
      "cell_type": "code",
      "source": [
        "!pip install SpeechRecognition"
      ],
      "metadata": {
        "id": "EkOZWEMSmO1y"
      },
      "execution_count": null,
      "outputs": []
    },
    {
      "cell_type": "code",
      "source": [
        "from gtts import gTTS\n",
        "import IPython.display as ipd\n",
        "import os\n",
        "\n",
        "def falar(texto):\n",
        "    tts = gTTS(text=texto, lang='pt')\n",
        "    tts.save(\"saida.mp3\")\n",
        "    return ipd.Audio('saida.mp3')\n",
        "\n",
        "# Teste\n",
        "audio = falar(\"Olá, como posso ajudar você hoje?\")\n",
        "ipd.display(audio)"
      ],
      "metadata": {
        "id": "ORPAX7yIlYJ1"
      },
      "execution_count": null,
      "outputs": []
    },
    {
      "cell_type": "code",
      "source": [
        "import speech_recognition as sr\n",
        "\n",
        "def ouvir_comando(filename):\n",
        "    recognizer = sr.Recognizer()\n",
        "\n",
        "    with sr.AudioFile(filename) as source:\n",
        "        audio = recognizer.record(source)\n",
        "\n",
        "        try:\n",
        "            comando = recognizer.recognize_google(audio, language='pt-BR')\n",
        "            print(f\"Você disse: {comando}\")\n",
        "            return comando.lower()\n",
        "        except sr.UnknownValueError:\n",
        "            print(\"Não consegui entender o que você disse.\")\n",
        "            return None\n",
        "        except sr.RequestError:\n",
        "            print(\"Erro ao se comunicar com o serviço de reconhecimento de fala.\")\n",
        "            return None\n",
        "\n",
        "# Teste\n",
        "from google.colab import files\n",
        "uploaded = files.upload()\n",
        "\n",
        "comando = ouvir_comando(list(uploaded.keys())[0])"
      ],
      "metadata": {
        "id": "UZuBoMfKlYOm"
      },
      "execution_count": null,
      "outputs": []
    },
    {
      "cell_type": "code",
      "source": [
        "!pip install wikipedia geopy\n",
        "\n",
        "import wikipedia\n",
        "import webbrowser\n",
        "from geopy.geocoders import Nominatim\n",
        "from gtts import gTTS\n",
        "\n",
        "# Serviço de Text-To-Speech e exibição de áudio no Colab\n",
        "import IPython.display as ipd\n",
        "import os\n",
        "\n",
        "def falar(texto):\n",
        "    tts = gTTS(text=texto, lang='pt')\n",
        "    tts.save(\"saida.mp3\")\n",
        "    return ipd.Audio('saida.mp3')\n",
        "\n",
        "# Teste do Text-To-Speech\n",
        "audio = falar(\"Olá, como posso ajudar você hoje?\")\n",
        "ipd.display(audio)\n",
        "\n",
        "\n",
        "# Função para reconhecimento de fala a partir de arquivos de áudio\n",
        "import speech_recognition as sr\n",
        "\n",
        "def ouvir_comando(filename):\n",
        "    recognizer = sr.Recognizer()\n",
        "\n",
        "    with sr.AudioFile(filename) as source:\n",
        "        audio = recognizer.record(source)\n",
        "\n",
        "        try:\n",
        "            comando = recognizer.recognize_google(audio, language='pt-BR')\n",
        "            print(f\"Você disse: {comando}\")\n",
        "            return comando.lower()\n",
        "        except sr.UnknownValueError:\n",
        "            print(\"Não consegui entender o que você disse.\")\n",
        "            return None\n",
        "        except sr.RequestError:\n",
        "            print(\"Erro ao se comunicar com o serviço de reconhecimento de fala.\")\n",
        "            return None\n",
        "\n",
        "# Teste do reconhecimento de fala\n",
        "from google.colab import files\n",
        "uploaded = files.upload()\n",
        "\n",
        "comando = ouvir_comando(list(uploaded.keys())[0])\n",
        "\n",
        "# Integração das funcionalidades\n",
        "wikipedia.set_lang(\"pt\")\n",
        "\n",
        "def abrir_wikipedia(query):\n",
        "    try:\n",
        "        resultados = wikipedia.summary(query, sentences=2)\n",
        "        audio = falar(resultados)\n",
        "        ipd.display(audio)\n",
        "    except wikipedia.exceptions.DisambiguationError as e:\n",
        "        audio = falar(f\"Existem muitos resultados para sua pesquisa. Por favor, seja mais específico.\")\n",
        "        ipd.display(audio)\n",
        "    except wikipedia.exceptions.PageError:\n",
        "        audio = falar(\"Não encontrei resultados para sua pesquisa.\")\n",
        "        ipd.display(audio)\n",
        "\n",
        "def abrir_youtube():\n",
        "    webbrowser.open(\"https://www.youtube.com\")\n",
        "\n",
        "def localizar_farmacia_mais_proxima():\n",
        "    geolocator = Nominatim(user_agent=\"assistente_virtual\")\n",
        "    location = geolocator.geocode(\"farmácia perto de mim\")\n",
        "    if location:\n",
        "        audio = falar(f\"A farmácia mais próxima está localizada em {location.address}\")\n",
        "        ipd.display(audio)\n",
        "    else:\n",
        "        audio = falar(\"Não consegui encontrar uma farmácia próxima.\")\n",
        "        ipd.display(audio)\n",
        "\n",
        "def assistente_virtual():\n",
        "    while True:\n",
        "        # Carregar um arquivo de áudio para capturar o comando\n",
        "        print(\"Por favor, faça upload de um arquivo de áudio contendo o comando...\")\n",
        "        uploaded = files.upload()\n",
        "        comando = ouvir_comando(list(uploaded.keys())[0])\n",
        "\n",
        "        if comando:\n",
        "            if \"wikipedia\" in comando:\n",
        "                audio = falar(\"O que você gostaria de saber na Wikipedia?\")\n",
        "                ipd.display(audio)\n",
        "                # Use o upload de arquivos novamente para fornecer uma nova entrada de áudio.\n",
        "                uploaded = files.upload()\n",
        "                query = ouvir_comando(list(uploaded.keys())[0])\n",
        "                abrir_wikipedia(query)\n",
        "\n",
        "            elif \"youtube\" in comando:\n",
        "                abrir_youtube()\n",
        "                audio = falar(\"Abrindo o YouTube.\")\n",
        "                ipd.display(audio)\n",
        "\n",
        "            elif \"farmácia mais próxima\" in comando:\n",
        "                localizar_farmacia_mais_proxima()\n",
        "\n",
        "            elif \"sair\" in comando:\n",
        "                audio = falar(\"Encerrando assistente.\")\n",
        "                ipd.display(audio)\n",
        "                break\n",
        "\n",
        "# Iniciando o assistente\n",
        "audio = falar(\"Olá, sou seu assistente virtual. Como posso ajudar?\")\n",
        "ipd.display(audio)\n",
        "assistente_virtual()"
      ],
      "metadata": {
        "id": "o3vcB3eomA1g"
      },
      "execution_count": null,
      "outputs": []
    }
  ]
}