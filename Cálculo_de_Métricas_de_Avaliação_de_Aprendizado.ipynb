{
  "nbformat": 4,
  "nbformat_minor": 0,
  "metadata": {
    "colab": {
      "provenance": [],
      "authorship_tag": "ABX9TyPq1YH7pitc/N8beV4stfn+",
      "include_colab_link": true
    },
    "kernelspec": {
      "name": "python3",
      "display_name": "Python 3"
    },
    "language_info": {
      "name": "python"
    }
  },
  "cells": [
    {
      "cell_type": "markdown",
      "metadata": {
        "id": "view-in-github",
        "colab_type": "text"
      },
      "source": [
        "<a href=\"https://colab.research.google.com/github/VictorAlexandr/Formacao-Machine-Learning-Specialist/blob/main/C%C3%A1lculo_de_M%C3%A9tricas_de_Avalia%C3%A7%C3%A3o_de_Aprendizado.ipynb\" target=\"_parent\"><img src=\"https://colab.research.google.com/assets/colab-badge.svg\" alt=\"Open In Colab\"/></a>"
      ]
    },
    {
      "cell_type": "code",
      "source": [
        "def calcular_metrica(vp, vn, fp, fn):\n",
        "    acuracia = (vp + vn) / (vp + vn + fp + fn)\n",
        "    recall = vp / (vp + fn)\n",
        "    especificidade = vn / (vn + fp)\n",
        "    precisao = vp / (vp + fp)\n",
        "    f1_score = 2 * (precisao * recall) / (precisao + recall)\n",
        "\n",
        "    return {\n",
        "        'Acurácia': acuracia,\n",
        "        'Recall (Sensibilidade)': recall,\n",
        "        'Especificidade': especificidade,\n",
        "        'Precisão': precisao,\n",
        "        'F1-score': f1_score\n",
        "    }\n",
        "\n",
        "# Valores da matriz de confusão\n",
        "vp = 50\n",
        "vn = 30\n",
        "fp = 10\n",
        "fn = 10\n",
        "\n",
        "# Cálculo das métricas\n",
        "metricas = calcular_metrica(vp, vn, fp, fn)\n",
        "\n",
        "# Exibir os resultados\n",
        "for metrica, valor in metricas.items():\n",
        "    print(f\"{metrica}: {valor:.2f}\")\n"
      ],
      "metadata": {
        "colab": {
          "base_uri": "https://localhost:8080/"
        },
        "id": "rwpb9L6rVMhw",
        "outputId": "2ef5d384-ec65-4927-9ca2-1fde1f3b41d4"
      },
      "execution_count": 1,
      "outputs": [
        {
          "output_type": "stream",
          "name": "stdout",
          "text": [
            "Acurácia: 0.80\n",
            "Recall (Sensibilidade): 0.83\n",
            "Especificidade: 0.75\n",
            "Precisão: 0.83\n",
            "F1-score: 0.83\n"
          ]
        }
      ]
    }
  ]
}